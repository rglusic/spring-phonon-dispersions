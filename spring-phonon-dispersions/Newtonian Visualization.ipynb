{
 "cells": [
  {
   "cell_type": "markdown",
   "metadata": {},
   "source": [
    "# Visualizing Newtonian \n",
    "The Newtonian describing the motion of an atomic face centered cubic structure is show below. First we'll need some imports from vpython along with the main differential equation and it's solver put inside the RenderCell class. The differential equation is of the form: \n",
    "$$m \\ddot{\\vec{r}} = \\sum_i k(\\vec{r_{eq}}-\\vec{r})$$"
   ]
  },
  {
   "cell_type": "code",
   "execution_count": 1,
   "metadata": {},
   "outputs": [
    {
     "data": {
      "text/html": [
       "<div id=\"glowscript\" class=\"glowscript\"></div>"
      ],
      "text/plain": [
       "<IPython.core.display.HTML object>"
      ]
     },
     "metadata": {},
     "output_type": "display_data"
    },
    {
     "data": {
      "application/javascript": [
       "if (typeof Jupyter !== \"undefined\") { window.__context = { glowscript_container: $(\"#glowscript\").removeAttr(\"id\")};}else{ element.textContent = ' ';}"
      ],
      "text/plain": [
       "<IPython.core.display.Javascript object>"
      ]
     },
     "metadata": {},
     "output_type": "display_data"
    }
   ],
   "source": [
    "from cell_structure import CellStructure\n",
    "from render_cell import RenderCell\n",
    "import numpy as np\n",
    "import vpython as vp"
   ]
  },
  {
   "cell_type": "markdown",
   "metadata": {},
   "source": [
    "From here, we need to define our crystal structure which will be perturbing. To do so, I define a few functions that utilize setting up the RenderCell class, along with vpython vector functions."
   ]
  },
  {
   "cell_type": "code",
   "execution_count": 2,
   "metadata": {},
   "outputs": [],
   "source": [
    "def spring_solve(cell, initial_displacement, threshold):\n",
    "    renderer = RenderCell(cell, threshold)\n",
    "    renderer.plot_supplimentary_information()\n",
    "    \n",
    "    renderer.change_atom_pos(initial_displacement)\n",
    "    \n",
    "    renderer.render()\n",
    "    \n",
    "    return renderer\n",
    "\n",
    "def generate_fcc(cell, a, num_of_atoms=100):\n",
    "    # Outer corners (back)\n",
    "    cell.place_atom('Si', vp.vector(a/2, a/2., a/2))\n",
    "    cell.place_atom('Si', vp.vector(a/2, -a/2.,a/2))\n",
    "    cell.place_atom('Si', vp.vector(-a/2, a/2, a/2))\n",
    "    cell.place_atom('Si', vp.vector(-a/2,-a/2,a/2))\n",
    "    \n",
    "    # Outer corners (front)\n",
    "    cell.place_atom('Si', vp.vector(a/2,a/2,-a/2))\n",
    "    cell.place_atom('Si', vp.vector(a/2,-a/2,-a/2))\n",
    "    cell.place_atom('Si', vp.vector(-a/2,a/2,-a/2))\n",
    "    cell.place_atom('Si', vp.vector(-a/2,-a/2,-a/2))\n",
    "    \n",
    "    # Faces and center atom\n",
    "    cell.place_atom('Si', vp.vector(a/2,0., 0.))\n",
    "    cell.place_atom('Si', vp.vector(-a/2,0., 0.))\n",
    "    cell.place_atom('Si', vp.vector(0.,0.,-a/2))\n",
    "    cell.place_atom('Si', vp.vector(0.,0.,0.))\n",
    "    cell.place_atom('Si', vp.vector(0.,0.,a/2))\n"
   ]
  },
  {
   "cell_type": "markdown",
   "metadata": {},
   "source": [
    "Now that we have our code above to describe a face centered cubic diamond structure, we can fill in the remaining details and produce a visual result."
   ]
  },
  {
   "cell_type": "code",
   "execution_count": 3,
   "metadata": {},
   "outputs": [
    {
     "data": {
      "application/javascript": [
       "if (typeof Jupyter !== \"undefined\") {require.undef(\"nbextensions/vpython_libraries/glow.min\");}else{element.textContent = ' ';}"
      ],
      "text/plain": [
       "<IPython.core.display.Javascript object>"
      ]
     },
     "metadata": {},
     "output_type": "display_data"
    },
    {
     "data": {
      "application/javascript": [
       "if (typeof Jupyter !== \"undefined\") {require.undef(\"nbextensions/vpython_libraries/glowcomm\");}else{element.textContent = ' ';}"
      ],
      "text/plain": [
       "<IPython.core.display.Javascript object>"
      ]
     },
     "metadata": {},
     "output_type": "display_data"
    },
    {
     "data": {
      "application/javascript": [
       "if (typeof Jupyter !== \"undefined\") {require.undef(\"nbextensions/vpython_libraries/jquery-ui.custom.min\");}else{element.textContent = ' ';}"
      ],
      "text/plain": [
       "<IPython.core.display.Javascript object>"
      ]
     },
     "metadata": {},
     "output_type": "display_data"
    },
    {
     "data": {
      "application/javascript": [
       "if (typeof Jupyter !== \"undefined\") {require([\"nbextensions/vpython_libraries/glow.min\"], function(){console.log(\"GLOW LOADED\");});}else{element.textContent = ' ';}"
      ],
      "text/plain": [
       "<IPython.core.display.Javascript object>"
      ]
     },
     "metadata": {},
     "output_type": "display_data"
    },
    {
     "data": {
      "application/javascript": [
       "if (typeof Jupyter !== \"undefined\") {require([\"nbextensions/vpython_libraries/glowcomm\"], function(){console.log(\"GLOWCOMM LOADED\");});}else{element.textContent = ' ';}"
      ],
      "text/plain": [
       "<IPython.core.display.Javascript object>"
      ]
     },
     "metadata": {},
     "output_type": "display_data"
    },
    {
     "data": {
      "application/javascript": [
       "if (typeof Jupyter !== \"undefined\") {require([\"nbextensions/vpython_libraries/jquery-ui.custom.min\"], function(){console.log(\"JQUERY LOADED\");});}else{element.textContent = ' ';}"
      ],
      "text/plain": [
       "<IPython.core.display.Javascript object>"
      ]
     },
     "metadata": {},
     "output_type": "display_data"
    }
   ],
   "source": [
    "a = 3.57 #angstroms\n",
    "\n",
    "# Useless for now.\n",
    "cell = [\n",
    "    [a/2, 0, 0],\n",
    "    [0, a/2, 0],\n",
    "    [0, 0, a/2]\n",
    "]\n",
    "\n",
    "cell_structure = CellStructure(np.array(cell))\n",
    "\n",
    "generate_fcc(cell_structure, a)\n",
    "\n",
    "renderer = spring_solve(cell_structure, vp.vector(0.5,0,0), a)"
   ]
  },
  {
   "cell_type": "markdown",
   "metadata": {},
   "source": [
    "# Results\n",
    "The above code pulls the red atom to the right a small amount, then releases it allowing the system of interconnected atoms to react. The resulting reaction defines an undamped harmonic oscillator. The two sets of following code define the same idea, except now the red atom is displaced in a different direction"
   ]
  },
  {
   "cell_type": "code",
   "execution_count": 4,
   "metadata": {},
   "outputs": [
    {
     "data": {
      "text/plain": [
       "<render_cell.RenderCell at 0x7f69bd8c5790>"
      ]
     },
     "execution_count": 4,
     "metadata": {},
     "output_type": "execute_result"
    }
   ],
   "source": [
    "# Clear the old renderer's atoms.\n",
    "renderer.delete()\n",
    "\n",
    "spring_solve(cell_structure, vp.vector(0.,0.5,0), a)"
   ]
  },
  {
   "cell_type": "code",
   "execution_count": 5,
   "metadata": {},
   "outputs": [
    {
     "data": {
      "text/plain": [
       "<render_cell.RenderCell at 0x7f69ec2ad340>"
      ]
     },
     "execution_count": 5,
     "metadata": {},
     "output_type": "execute_result"
    }
   ],
   "source": [
    "# Clear the old renderer's atoms.\n",
    "renderer.delete()\n",
    "\n",
    "spring_solve(cell_structure, vp.vector(0.,0.,0.5), a)"
   ]
  }
 ],
 "metadata": {
  "kernelspec": {
   "display_name": "Python 3.8.2 64-bit ('env': venv)",
   "language": "python",
   "name": "python38264bitenvvenv800f49ca8ad14ba0940cfccc734cbd49"
  },
  "language_info": {
   "codemirror_mode": {
    "name": "ipython",
    "version": 3
   },
   "file_extension": ".py",
   "mimetype": "text/x-python",
   "name": "python",
   "nbconvert_exporter": "python",
   "pygments_lexer": "ipython3",
   "version": "3.8.6"
  }
 },
 "nbformat": 4,
 "nbformat_minor": 4
}